{
 "cells": [
  {
   "cell_type": "markdown",
   "id": "a51f90f6",
   "metadata": {},
   "source": [
    "# Machine Leanring Assignment 3: Tweet Sentiment Classifcation"
   ]
  },
  {
   "cell_type": "code",
   "execution_count": 156,
   "id": "290a01c4",
   "metadata": {},
   "outputs": [],
   "source": [
    "# Imports\n",
    "import pandas as pd\n",
    "import numpy as np\n",
    "from scipy.sparse import hstack\n",
    "import ast\n",
    "from scipy.sparse import csr_matrix\n",
    "from sklearn.feature_extraction.text import TfidfVectorizer\n",
    "from sklearn.feature_extraction import DictVectorizer\n",
    "\n",
    "from collections import Counter\n",
    "from random import random\n",
    "from sklearn.metrics import confusion_matrix, classification_report\n",
    "import seaborn as sns\n",
    "import matplotlib.pyplot as plt\n",
    "\n",
    "from sklearn.linear_model import LogisticRegression\n",
    "from sklearn.naive_bayes import MultinomialNB\n",
    "from sklearn.neural_network import MLPClassifier"
   ]
  },
  {
   "cell_type": "markdown",
   "id": "e546fedb",
   "metadata": {},
   "source": [
    "# TRAINING PHASE 1"
   ]
  },
  {
   "cell_type": "markdown",
   "id": "3d97cf1e",
   "metadata": {},
   "source": [
    "## Read Train Data"
   ]
  },
  {
   "cell_type": "code",
   "execution_count": 2,
   "id": "f436e10a",
   "metadata": {},
   "outputs": [],
   "source": [
    "def convertToDictionary(data):\n",
    "    i = 0\n",
    "    for tweet in data[\"tweet\"]:\n",
    "        tweet_list = ast.literal_eval(tweet)\n",
    "        tweet_kv = [(str(tup[0]), tup[1]) for tup in tweet_list]\n",
    "        tweet_dict = dict(tweet_kv)\n",
    "        data.at[i, \"tweet\"] = tweet_dict\n",
    "        i += 1\n",
    "        \n",
    "    return data\n",
    "\n",
    "def convertToList(data):\n",
    "    i = 0\n",
    "    for tweet in data[\"tweet\"]:\n",
    "        tweet_list = ast.literal_eval(tweet)\n",
    "        data.at[i, \"tweet\"] = tweet_list\n",
    "        i += 1\n",
    "        \n",
    "    return data"
   ]
  },
  {
   "cell_type": "code",
   "execution_count": 3,
   "id": "ac9d35e3",
   "metadata": {},
   "outputs": [],
   "source": [
    "# LOAD TRAIN DATA\n",
    "# 1. TFIDF\n",
    "f_train_data = pd.read_csv(\"data/data/train_tfidf.csv\")\n",
    "\n",
    "# Convert each tweet into a dictionary for processing\n",
    "f_train_data = convertToDictionary(f_train_data)\n",
    "\n",
    "# 2. GloVe\n",
    "g_train_data = pd.read_csv(\"data/data/train_glove.csv\")\n",
    "g_train_data = convertToList(g_train_data)\n",
    "\n",
    "# 3. Count\n",
    "c_train_data = pd.read_csv(\"data/data/train_count.csv\")\n",
    "c_train_data = convertToDictionary(c_train_data)"
   ]
  },
  {
   "cell_type": "markdown",
   "id": "97bcad0b",
   "metadata": {},
   "source": [
    "## Visualize Data"
   ]
  },
  {
   "cell_type": "code",
   "execution_count": 30,
   "id": "e0cd7207",
   "metadata": {},
   "outputs": [
    {
     "name": "stdout",
     "output_type": "stream",
     "text": [
      "The prior probability of positive is 0.39212\n",
      "The prior probability of negative is 0.40735\n",
      "The prior probability of neutral is 0.20052\n"
     ]
    },
    {
     "data": {
      "image/png": "[encoded data removed]",
      "text/plain": [
       "<Figure size 432x288 with 1 Axes>"
      ]
     },
     "metadata": {
      "needs_background": "light"
     },
     "output_type": "display_data"
    }
   ],
   "source": [
    "# Plot distribution for training dataset.\n",
    "ax = f_train_data.groupby('sentiment').count()[\"tweet\"].plot(kind='bar', title='Distribution of Training Data',\n",
    "                                                             ylabel='No. instances', legend=False)\n",
    "ax.set_xticklabels([\"Negative\",\"Neutral\",\"Positive\"], rotation=0)\n",
    "\n",
    "prior_pos_t = Counter(y_train_f)['pos'] / (Counter(y_train_f)['pos'] + Counter(y_train_f)['neg'] + Counter(y_train_f)['neu'])\n",
    "prior_neg_t = Counter(y_train_f)['neg'] / (Counter(y_train_f)['pos'] + Counter(y_train_f)['neg'] + Counter(y_train_f)['neu'])\n",
    "prior_neu_t = Counter(y_train_f)['neu'] / (Counter(y_train_f)['pos'] + Counter(y_train_f)['neg'] + Counter(y_train_f)['neu'])\n",
    "print(\"The prior probability of positive is\", round(prior_pos_t,5))\n",
    "print(\"The prior probability of negative is\", round(prior_neg_t,5))\n",
    "print(\"The prior probability of neutral is\", round(prior_neu_t,5))\n"
   ]
  },
  {
   "cell_type": "markdown",
   "id": "ef6a79e6",
   "metadata": {},
   "source": [
    "## Process Training Input"
   ]
  },
  {
   "cell_type": "code",
   "execution_count": 25,
   "id": "b1a229f1",
   "metadata": {},
   "outputs": [],
   "source": [
    "# Process Data\n",
    "v = DictVectorizer()\n",
    "\n",
    "X_train_f = v.fit_transform(f_train_data[\"tweet\"])\n",
    "y_train_f = f_train_data[\"sentiment\"]\n",
    "\n",
    "X_train_g = g_train_data[\"tweet\"].to_list()\n",
    "y_train_g = g_train_data[\"sentiment\"]\n",
    "\n",
    "X_train_c = v.fit_transform(c_train_data[\"tweet\"])\n",
    "y_train_c = c_train_data[\"sentiment\"]"
   ]
  },
  {
   "cell_type": "markdown",
   "id": "445a8acf",
   "metadata": {},
   "source": [
    "## Train Models\n",
    "Models were trained on each of the three given feature representations"
   ]
  },
  {
   "cell_type": "markdown",
   "id": "04935055",
   "metadata": {},
   "source": [
    "### 1 . TFIDF"
   ]
  },
  {
   "cell_type": "markdown",
   "id": "e8050890",
   "metadata": {},
   "source": [
    "#### Logistic Regression"
   ]
  },
  {
   "cell_type": "code",
   "execution_count": 32,
   "id": "8ea285ed",
   "metadata": {},
   "outputs": [
    {
     "name": "stderr",
     "output_type": "stream",
     "text": [
      "C:\\Users\\dcole\\anaconda3\\lib\\site-packages\\sklearn\\linear_model\\_logistic.py:763: ConvergenceWarning: lbfgs failed to converge (status=1):\n",
      "STOP: TOTAL NO. of ITERATIONS REACHED LIMIT.\n",
      "\n",
      "Increase the number of iterations (max_iter) or scale the data as shown in:\n",
      "    https://scikit-learn.org/stable/modules/preprocessing.html\n",
      "Please also refer to the documentation for alternative solver options:\n",
      "    https://scikit-learn.org/stable/modules/linear_model.html#logistic-regression\n",
      "  n_iter_i = _check_optimize_result(\n"
     ]
    }
   ],
   "source": [
    "lr_f = LogisticRegression().fit(X_train_f, y_train_f)"
   ]
  },
  {
   "cell_type": "markdown",
   "id": "6dc69d06",
   "metadata": {},
   "source": [
    "#### Multinomial Naive Bayes"
   ]
  },
  {
   "cell_type": "code",
   "execution_count": 33,
   "id": "4d5016ad",
   "metadata": {},
   "outputs": [],
   "source": [
    "mnb_f = MultinomialNB().fit(X_train_f,y_train_f)"
   ]
  },
  {
   "cell_type": "markdown",
   "id": "cf123896",
   "metadata": {},
   "source": [
    "#### Multi-Layer Perceptron"
   ]
  },
  {
   "cell_type": "code",
   "execution_count": 262,
   "id": "39c0e698",
   "metadata": {},
   "outputs": [
    {
     "name": "stderr",
     "output_type": "stream",
     "text": [
      "C:\\Users\\dcole\\anaconda3\\lib\\site-packages\\sklearn\\neural_network\\_multilayer_perceptron.py:614: ConvergenceWarning: Stochastic Optimizer: Maximum iterations (200) reached and the optimization hasn't converged yet.\n",
      "  warnings.warn(\n"
     ]
    },
    {
     "data": {
      "text/plain": [
       "MLPClassifier(alpha=1e-05, hidden_layer_sizes=(5,), random_state=1)"
      ]
     },
     "execution_count": 262,
     "metadata": {},
     "output_type": "execute_result"
    }
   ],
   "source": [
    "mlp_f = MLPClassifier(alpha=1e-5,\n",
    "                     hidden_layer_sizes=(5,), random_state=1)\n",
    "mlp_f.fit(X_train_f, y_train_f)"
   ]
  },
  {
   "cell_type": "markdown",
   "id": "76b5b0f3",
   "metadata": {},
   "source": [
    "### 2. GloVe"
   ]
  },
  {
   "cell_type": "markdown",
   "id": "eb339918",
   "metadata": {},
   "source": [
    "#### Logistic Regression"
   ]
  },
  {
   "cell_type": "code",
   "execution_count": 35,
   "id": "11b7851c",
   "metadata": {},
   "outputs": [
    {
     "name": "stderr",
     "output_type": "stream",
     "text": [
      "C:\\Users\\dcole\\anaconda3\\lib\\site-packages\\sklearn\\linear_model\\_logistic.py:763: ConvergenceWarning: lbfgs failed to converge (status=1):\n",
      "STOP: TOTAL NO. of ITERATIONS REACHED LIMIT.\n",
      "\n",
      "Increase the number of iterations (max_iter) or scale the data as shown in:\n",
      "    https://scikit-learn.org/stable/modules/preprocessing.html\n",
      "Please also refer to the documentation for alternative solver options:\n",
      "    https://scikit-learn.org/stable/modules/linear_model.html#logistic-regression\n",
      "  n_iter_i = _check_optimize_result(\n"
     ]
    }
   ],
   "source": [
    "lr_g = LogisticRegression().fit(X_train_g, y_train_g)"
   ]
  },
  {
   "cell_type": "markdown",
   "id": "52ed2841",
   "metadata": {},
   "source": [
    "#### Multi-Layer Perceptron"
   ]
  },
  {
   "cell_type": "code",
   "execution_count": 253,
   "id": "0d828819",
   "metadata": {},
   "outputs": [
    {
     "data": {
      "text/plain": [
       "MLPClassifier(hidden_layer_sizes=(40, 20))"
      ]
     },
     "execution_count": 253,
     "metadata": {},
     "output_type": "execute_result"
    }
   ],
   "source": [
    "mlp_g = MLPClassifier(alpha=1e-5,\n",
    "                     hidden_layer_sizes=(20,10), random_state=1)\n",
    "\n",
    "mlp_g.fit(X_train_g, y_train_g)"
   ]
  },
  {
   "cell_type": "markdown",
   "id": "8e0f778f",
   "metadata": {},
   "source": [
    "#### Naive Bayes\n",
    "Don't use Naive Baynes due to conditional indepednence assumption.\n",
    "These features are inherently related as all 100 represent the same word"
   ]
  },
  {
   "cell_type": "markdown",
   "id": "12d1d245",
   "metadata": {},
   "source": [
    "### 3. Count"
   ]
  },
  {
   "cell_type": "markdown",
   "id": "370be693",
   "metadata": {},
   "source": [
    "#### Logistic Regression"
   ]
  },
  {
   "cell_type": "code",
   "execution_count": 37,
   "id": "bcb4891d",
   "metadata": {},
   "outputs": [
    {
     "name": "stderr",
     "output_type": "stream",
     "text": [
      "C:\\Users\\dcole\\anaconda3\\lib\\site-packages\\sklearn\\linear_model\\_logistic.py:763: ConvergenceWarning: lbfgs failed to converge (status=1):\n",
      "STOP: TOTAL NO. of ITERATIONS REACHED LIMIT.\n",
      "\n",
      "Increase the number of iterations (max_iter) or scale the data as shown in:\n",
      "    https://scikit-learn.org/stable/modules/preprocessing.html\n",
      "Please also refer to the documentation for alternative solver options:\n",
      "    https://scikit-learn.org/stable/modules/linear_model.html#logistic-regression\n",
      "  n_iter_i = _check_optimize_result(\n"
     ]
    }
   ],
   "source": [
    "lr_c = LogisticRegression().fit(X_train_c, y_train_c)"
   ]
  },
  {
   "cell_type": "markdown",
   "id": "52fa8ea7",
   "metadata": {},
   "source": [
    "#### Multinomial Naive Bayes"
   ]
  },
  {
   "cell_type": "code",
   "execution_count": 38,
   "id": "65704e42",
   "metadata": {},
   "outputs": [],
   "source": [
    "mnb_c = MultinomialNB().fit(X_train_c,y_train_c)"
   ]
  },
  {
   "cell_type": "markdown",
   "id": "67c42acd",
   "metadata": {},
   "source": [
    "#### Multi-Layer Perceptron"
   ]
  },
  {
   "cell_type": "code",
   "execution_count": 261,
   "id": "e5def5df",
   "metadata": {},
   "outputs": [
    {
     "name": "stderr",
     "output_type": "stream",
     "text": [
      "C:\\Users\\dcole\\anaconda3\\lib\\site-packages\\sklearn\\neural_network\\_multilayer_perceptron.py:614: ConvergenceWarning: Stochastic Optimizer: Maximum iterations (200) reached and the optimization hasn't converged yet.\n",
      "  warnings.warn(\n"
     ]
    },
    {
     "data": {
      "text/plain": [
       "MLPClassifier(alpha=1e-05, hidden_layer_sizes=(5,), random_state=1)"
      ]
     },
     "execution_count": 261,
     "metadata": {},
     "output_type": "execute_result"
    }
   ],
   "source": [
    "mlp_c = MLPClassifier(alpha=1e-5,\n",
    "                     hidden_layer_sizes=(5,), random_state=1)\n",
    "\n",
    "mlp_c.fit(X_train_c, y_train_c)"
   ]
  },
  {
   "cell_type": "markdown",
   "id": "811aa69e",
   "metadata": {},
   "source": [
    " # DEVELOPMENT PHASE 1"
   ]
  },
  {
   "cell_type": "markdown",
   "id": "2a4c047f",
   "metadata": {},
   "source": [
    "## Read Dev Data"
   ]
  },
  {
   "cell_type": "code",
   "execution_count": 40,
   "id": "d0ec12ef",
   "metadata": {},
   "outputs": [],
   "source": [
    "# LOAD DEV DATA\n",
    "# ********************** CHANGE TO SAME FOLDER ********************************************\n",
    "# 1. TFIDF\n",
    "f_dev_data = pd.read_csv(\"data/data/dev_tfidf.csv\")\n",
    "f_dev_data = convertToDictionary(f_dev_data)\n",
    "\n",
    "# 2. GloVe\n",
    "g_dev_data = pd.read_csv(\"data/data/dev_glove.csv\")\n",
    "g_dev_data = convertToList(g_dev_data)\n",
    "\n",
    "# 3. Count\n",
    "c_dev_data = pd.read_csv(\"data/data/dev_count.csv\")\n",
    "c_dev_data = convertToDictionary(c_dev_data)"
   ]
  },
  {
   "cell_type": "code",
   "execution_count": 41,
   "id": "a223890c",
   "metadata": {},
   "outputs": [
    {
     "name": "stdout",
     "output_type": "stream",
     "text": [
      "The prior probability of positive is 0.39767\n",
      "The prior probability of negative is 0.40666\n",
      "The prior probability of neutral is 0.19567\n"
     ]
    },
    {
     "data": {
      "image/png": "[encoded data removed]",
      "text/plain": [
       "<Figure size 432x288 with 1 Axes>"
      ]
     },
     "metadata": {
      "needs_background": "light"
     },
     "output_type": "display_data"
    }
   ],
   "source": [
    "# Plot distribution for training dataset.\n",
    "ax_dev = f_dev_data.groupby('sentiment').count()['tweet'].plot(kind='bar', title='Distribution of Development Data',\n",
    "                                                               ylabel='No. instances', legend=False)\n",
    "ax_dev.set_xticklabels([\"Negative\",\"Neutral\",\"Positive\"], rotation=0)\n",
    "\n",
    "print(\"The prior probability of positive is\", round(prior_pos,5))\n",
    "print(\"The prior probability of negative is\", round(prior_neg,5))\n",
    "print(\"The prior probability of neutral is\", round(prior_neu,5))"
   ]
  },
  {
   "cell_type": "markdown",
   "id": "e9c78a29",
   "metadata": {},
   "source": [
    "## Process Dev Input"
   ]
  },
  {
   "cell_type": "code",
   "execution_count": 42,
   "id": "8dda04a8",
   "metadata": {},
   "outputs": [],
   "source": [
    "# Process Data\n",
    "X_dev_f = v.transform(f_dev_data[\"tweet\"])\n",
    "y_dev_f = f_dev_data[\"sentiment\"]\n",
    "\n",
    "X_dev_g = g_dev_data[\"tweet\"].to_list()\n",
    "y_dev_g = g_dev_data[\"sentiment\"]\n",
    "\n",
    "X_dev_c = v.transform(c_dev_data[\"tweet\"])\n",
    "y_dev_c = c_dev_data[\"sentiment\"]"
   ]
  },
  {
   "cell_type": "markdown",
   "id": "4d8ff9c1",
   "metadata": {},
   "source": [
    "## Predictions - DEV dataset"
   ]
  },
  {
   "cell_type": "code",
   "execution_count": 217,
   "id": "148fd131",
   "metadata": {},
   "outputs": [],
   "source": [
    "# MODELS - DEV\n",
    "# tfidf\n",
    "lr_f_pred = lr_f.predict(X_dev_f)\n",
    "\n",
    "mnb_f_pred = mnb_f.predict(X_dev_f)\n",
    "\n",
    "mlp_f_pred = mlp_f.predict(X_dev_f)"
   ]
  },
  {
   "cell_type": "code",
   "execution_count": 44,
   "id": "c17ad16c",
   "metadata": {},
   "outputs": [],
   "source": [
    "# glove\n",
    "lr_g_pred = lr_g.predict(X_dev_g)\n",
    "\n",
    "# Don't use Naive Baynes due to conditional indepednence assumption.\n",
    "# These features are inherently related as all 100 represent the same word\n",
    "# mnb_dev_g = MultinomialNB().fit(X_dev_g,y_dev_g)\n",
    "# mnb_dev_g.predict(X_dev_g)\n",
    "\n",
    "mlp_g_pred = mlp_g.predict(X_dev_g)"
   ]
  },
  {
   "cell_type": "code",
   "execution_count": 216,
   "id": "73678ca2",
   "metadata": {},
   "outputs": [
    {
     "name": "stdout",
     "output_type": "stream",
     "text": [
      "['neg' 'neg' 'pos' ... 'neu' 'neg' 'neg']\n"
     ]
    }
   ],
   "source": [
    "# count\n",
    "lr_c_pred = lr_c.predict(X_dev_c)\n",
    "print(lr_c_pred)\n",
    "\n",
    "mnb_c_pred = mnb_c.predict(X_dev_c)\n",
    "\n",
    "mlp_c_pred = mlp_c.predict(X_dev_c)"
   ]
  },
  {
   "cell_type": "markdown",
   "id": "66d7292e",
   "metadata": {},
   "source": [
    "## Evaluation - DEV dataset"
   ]
  },
  {
   "cell_type": "code",
   "execution_count": 263,
   "id": "e8f933a8",
   "metadata": {},
   "outputs": [
    {
     "name": "stdout",
     "output_type": "stream",
     "text": [
      "Tfidf\n",
      "Logistic Regression Accuracy:\t0.7419873405003516\n",
      "Logistic Regression Accuracy:\t0.7729524718529636\n",
      "Naive Bayes Accuracy:\t0.7256103687330453\n",
      "Naive Bayes Accuracy:\t0.7518037336816261\n",
      "Multi-Layer Perceptron:\t0.7238521048929971\n",
      "Multi-Layer Perceptron:\t0.806176335767615\n",
      "GloVe\n",
      "Logistic Regression Accuracy:\t0.6789410228071938\n",
      "Multi-Layer Perceptron:\t0.7069727720285341\n",
      "Multi-Layer Perceptron:\t0.7356910073907555\n",
      "Count\n",
      "Logistic Regression Accuracy:\t0.7406812016477444\n",
      "Naive Bayes Accuracy:\t0.7307846880337586\n",
      "Multi-Layer Perceptron:\t0.7193810911283031\n",
      "Multi-Layer Perceptron:\t0.8181823890287782\n"
     ]
    }
   ],
   "source": [
    "print(\"Tfidf\")\n",
    "print(\"Logistic Regression Accuracy:\\t\" + str(lr_f.score(X_dev_f, y_dev_f)))\n",
    "print(\"Logistic Regression Accuracy:\\t\" + str(lr_f.score(X_train_f, y_train_f)))\n",
    "print(\"Naive Bayes Accuracy:\\t\" + str(mnb_f.score(X_dev_f, y_dev_f)))\n",
    "print(\"Naive Bayes Accuracy:\\t\" + str(mnb_f.score(X_train_f, y_train_f)))\n",
    "# Use a non linear model \n",
    "print(\"Multi-Layer Perceptron:\\t\" + str(mlp_f.score(X_dev_f, y_dev_f)))\n",
    "print(\"Multi-Layer Perceptron:\\t\" + str(mlp_f.score(X_train_f, y_train_f)))\n",
    "\n",
    "print(\"GloVe\")\n",
    "print(\"Logistic Regression Accuracy:\\t\" + str(lr_g.score(X_dev_g, y_dev_g)))\n",
    "print(\"Multi-Layer Perceptron:\\t\" + str(mlp_g.score(X_dev_g, y_dev_g)))\n",
    "print(\"Multi-Layer Perceptron:\\t\" + str(mlp_g.score(X_train_g, y_train_g)))\n",
    "\n",
    "print(\"Count\")\n",
    "print(\"Logistic Regression Accuracy:\\t\" + str(lr_c.score(X_dev_c, y_dev_c)))\n",
    "print(\"Naive Bayes Accuracy:\\t\" + str(mnb_c.score(X_dev_c, y_dev_c)))\n",
    "print(\"Multi-Layer Perceptron:\\t\" + str(mlp_c.score(X_dev_c, y_dev_c)))\n",
    "print(\"Multi-Layer Perceptron:\\t\" + str(mlp_c.score(X_train_c, y_train_c)))"
   ]
  },
  {
   "cell_type": "code",
   "execution_count": 90,
   "id": "8050a49a",
   "metadata": {},
   "outputs": [],
   "source": [
    "def confusionMatrix(y_dev, y_pred, title):\n",
    "    # Compute and plot the Confusion matrix\n",
    "    cf_matrix = confusion_matrix(y_dev, y_pred)\n",
    "    print(cf_matrix)\n",
    "    categories = ['Negative','Neutral','Positive']\n",
    "    group_percentages = ['{0:.2%}'.format(value) for value in cf_matrix.flatten() / np.sum(cf_matrix)]\n",
    "    group_percentages = np.asarray(group_percentages).reshape(3,3)\n",
    "    sns.heatmap(cf_matrix, annot = group_percentages, cmap = 'Blues',fmt = '',\n",
    "    xticklabels = categories, yticklabels = categories)\n",
    "    plt.xlabel(\"Predicted values\", fontdict = {'size':14}, labelpad = 10)\n",
    "    plt.ylabel(\"Actual values\" , fontdict = {'size':14}, labelpad = 10)\n",
    "    plt.title (title, fontdict = {'size':18}, pad = 20)\n",
    "    "
   ]
  },
  {
   "cell_type": "code",
   "execution_count": 91,
   "id": "ad6c7071",
   "metadata": {},
   "outputs": [
    {
     "name": "stdout",
     "output_type": "stream",
     "text": [
      "              precision    recall  f1-score   support\n",
      "\n",
      "         neg       0.74      0.73      0.73      8095\n",
      "         neu       0.83      0.85      0.84      3895\n",
      "         pos       0.71      0.71      0.71      7916\n",
      "\n",
      "    accuracy                           0.74     19906\n",
      "   macro avg       0.76      0.76      0.76     19906\n",
      "weighted avg       0.74      0.74      0.74     19906\n",
      "\n",
      "[[5870  273 1952]\n",
      " [ 207 3318  370]\n",
      " [1909  425 5582]]\n",
      "None\n"
     ]
    },
    {
     "data": {
      "image/png": "[encoded data removed]",
      "text/plain": [
       "<Figure size 432x288 with 2 Axes>"
      ]
     },
     "metadata": {
      "needs_background": "light"
     },
     "output_type": "display_data"
    }
   ],
   "source": [
    "# Print the evaluation metrics for the tfidf dataset.\n",
    "print(classification_report(y_dev_f, lr_f_pred))\n",
    "print(confusionMatrix(y_dev_f, lr_f_pred, \"LR TFIDF Confusion Matrix\"))"
   ]
  },
  {
   "cell_type": "code",
   "execution_count": 79,
   "id": "a0b17674",
   "metadata": {},
   "outputs": [
    {
     "name": "stdout",
     "output_type": "stream",
     "text": [
      "              precision    recall  f1-score   support\n",
      "\n",
      "         neg       0.70      0.73      0.72      8095\n",
      "         neu       0.87      0.78      0.82      3895\n",
      "         pos       0.69      0.69      0.69      7916\n",
      "\n",
      "    accuracy                           0.73     19906\n",
      "   macro avg       0.75      0.74      0.74     19906\n",
      "weighted avg       0.73      0.73      0.73     19906\n",
      "\n",
      "None\n"
     ]
    },
    {
     "data": {
      "image/png": "[encoded data removed]",
      "text/plain": [
       "<Figure size 432x288 with 2 Axes>"
      ]
     },
     "metadata": {
      "needs_background": "light"
     },
     "output_type": "display_data"
    }
   ],
   "source": [
    "print(classification_report(y_dev_f, mnb_f_pred))\n",
    "print(confusionMatrix(y_dev_f, mnb_f_pred, \"MNB TFIDF Confusion Matrix\"))"
   ]
  },
  {
   "cell_type": "code",
   "execution_count": 80,
   "id": "c312ac08",
   "metadata": {},
   "outputs": [
    {
     "name": "stdout",
     "output_type": "stream",
     "text": [
      "              precision    recall  f1-score   support\n",
      "\n",
      "         neg       0.73      0.73      0.73      8095\n",
      "         neu       0.82      0.85      0.83      3895\n",
      "         pos       0.71      0.69      0.70      7916\n",
      "\n",
      "    accuracy                           0.74     19906\n",
      "   macro avg       0.75      0.76      0.75     19906\n",
      "weighted avg       0.74      0.74      0.74     19906\n",
      "\n",
      "None\n"
     ]
    },
    {
     "data": {
      "image/png": "[encoded data removed]",
      "text/plain": [
       "<Figure size 432x288 with 2 Axes>"
      ]
     },
     "metadata": {
      "needs_background": "light"
     },
     "output_type": "display_data"
    }
   ],
   "source": [
    "print(classification_report(y_dev_f, mlp_f_pred))\n",
    "print(confusionMatrix(y_dev_f, mlp_f_pred, \"MLP TFIDF Confusion Matrix\"))"
   ]
  },
  {
   "cell_type": "code",
   "execution_count": 82,
   "id": "ddcb5e8c",
   "metadata": {},
   "outputs": [
    {
     "name": "stdout",
     "output_type": "stream",
     "text": [
      "              precision    recall  f1-score   support\n",
      "\n",
      "         neg       0.74      0.72      0.73      8095\n",
      "         neu       0.82      0.86      0.83      3895\n",
      "         pos       0.70      0.71      0.71      7916\n",
      "\n",
      "    accuracy                           0.74     19906\n",
      "   macro avg       0.75      0.76      0.76     19906\n",
      "weighted avg       0.74      0.74      0.74     19906\n",
      "\n",
      "None\n"
     ]
    },
    {
     "data": {
      "image/png": "[encoded data removed]",
      "text/plain": [
       "<Figure size 432x288 with 2 Axes>"
      ]
     },
     "metadata": {
      "needs_background": "light"
     },
     "output_type": "display_data"
    }
   ],
   "source": [
    "# Print the evaluation metrics for the count dataset.\n",
    "print(classification_report(y_dev_c, lr_c_pred))\n",
    "print(confusionMatrix(y_dev_c, lr_c_pred, \"LR Count Confusion Matrix\"))"
   ]
  },
  {
   "cell_type": "code",
   "execution_count": 83,
   "id": "9deb074b",
   "metadata": {},
   "outputs": [
    {
     "name": "stdout",
     "output_type": "stream",
     "text": [
      "              precision    recall  f1-score   support\n",
      "\n",
      "         neg       0.71      0.73      0.72      8095\n",
      "         neu       0.83      0.81      0.82      3895\n",
      "         pos       0.70      0.69      0.69      7916\n",
      "\n",
      "    accuracy                           0.73     19906\n",
      "   macro avg       0.75      0.74      0.75     19906\n",
      "weighted avg       0.73      0.73      0.73     19906\n",
      "\n",
      "None\n"
     ]
    },
    {
     "data": {
      "image/png": "[encoded data removed]",
      "text/plain": [
       "<Figure size 432x288 with 2 Axes>"
      ]
     },
     "metadata": {
      "needs_background": "light"
     },
     "output_type": "display_data"
    }
   ],
   "source": [
    "print(classification_report(y_dev_c, mnb_c_pred))\n",
    "print(confusionMatrix(y_dev_c, mnb_c_pred, \"MNB Count Confusion Matrix\"))"
   ]
  },
  {
   "cell_type": "code",
   "execution_count": 84,
   "id": "764c05c3",
   "metadata": {},
   "outputs": [
    {
     "name": "stdout",
     "output_type": "stream",
     "text": [
      "              precision    recall  f1-score   support\n",
      "\n",
      "         neg       0.70      0.71      0.71      8095\n",
      "         neu       0.82      0.83      0.82      3895\n",
      "         pos       0.68      0.67      0.68      7916\n",
      "\n",
      "    accuracy                           0.72     19906\n",
      "   macro avg       0.74      0.74      0.74     19906\n",
      "weighted avg       0.72      0.72      0.72     19906\n",
      "\n",
      "None\n"
     ]
    },
    {
     "data": {
      "image/png": "[encoded data removed]",
      "text/plain": [
       "<Figure size 432x288 with 2 Axes>"
      ]
     },
     "metadata": {
      "needs_background": "light"
     },
     "output_type": "display_data"
    }
   ],
   "source": [
    "print(classification_report(y_dev_c, mlp_c_pred))\n",
    "print(confusionMatrix(y_dev_c, mlp_c_pred, \"MLP Count Confusion Matrix\"))"
   ]
  },
  {
   "cell_type": "code",
   "execution_count": 86,
   "id": "11e97a76",
   "metadata": {},
   "outputs": [
    {
     "name": "stdout",
     "output_type": "stream",
     "text": [
      "              precision    recall  f1-score   support\n",
      "\n",
      "         neg       0.67      0.69      0.68      8095\n",
      "         neu       0.77      0.79      0.78      3895\n",
      "         pos       0.64      0.62      0.63      7916\n",
      "\n",
      "    accuracy                           0.68     19906\n",
      "   macro avg       0.69      0.70      0.70     19906\n",
      "weighted avg       0.68      0.68      0.68     19906\n",
      "\n",
      "None\n"
     ]
    },
    {
     "data": {
      "image/png": "[encoded data removed]",
      "text/plain": [
       "<Figure size 432x288 with 2 Axes>"
      ]
     },
     "metadata": {
      "needs_background": "light"
     },
     "output_type": "display_data"
    }
   ],
   "source": [
    "# # Print the evaluation metrics for the glove dataset.\n",
    "print(classification_report(y_dev_g, lr_g_pred))\n",
    "print(confusionMatrix(y_dev_g, lr_g_pred, \"LR GloVe Confusion Matrix\"))"
   ]
  },
  {
   "cell_type": "code",
   "execution_count": 88,
   "id": "c0297fe6",
   "metadata": {},
   "outputs": [
    {
     "name": "stdout",
     "output_type": "stream",
     "text": [
      "              precision    recall  f1-score   support\n",
      "\n",
      "         neg       0.70      0.69      0.70      8095\n",
      "         neu       0.85      0.80      0.82      3895\n",
      "         pos       0.65      0.68      0.67      7916\n",
      "\n",
      "    accuracy                           0.71     19906\n",
      "   macro avg       0.73      0.72      0.73     19906\n",
      "weighted avg       0.71      0.71      0.71     19906\n",
      "\n",
      "None\n"
     ]
    },
    {
     "data": {
      "image/png": "[encoded data removed]",
      "text/plain": [
       "<Figure size 432x288 with 2 Axes>"
      ]
     },
     "metadata": {
      "needs_background": "light"
     },
     "output_type": "display_data"
    }
   ],
   "source": [
    "print(classification_report(y_dev_g, mlp_g_pred))\n",
    "print(confusionMatrix(y_dev_g, mlp_g_pred, \"MLP GloVe Confusion Matrix\"))"
   ]
  },
  {
   "cell_type": "markdown",
   "id": "4b7a2083",
   "metadata": {},
   "source": [
    "#### Observations:\n",
    "1. Currently all pretty bad\n",
    "2. GloVe embeddings not performing well on current models"
   ]
  },
  {
   "cell_type": "markdown",
   "id": "dd003df0",
   "metadata": {},
   "source": [
    "## Baseline Evaluation\n",
    "Check each model performs better than the naive baseline model. One-R in this case"
   ]
  },
  {
   "cell_type": "code",
   "execution_count": 93,
   "id": "2acdb325",
   "metadata": {},
   "outputs": [],
   "source": [
    "# One-R implementation\n",
    "import random\n",
    "\n",
    "def weight_random(y_dev):\n",
    "    error = 0    \n",
    "\n",
    "    correct = 0\n",
    "    incorrect = 0\n",
    "    for label in y_dev:\n",
    "        prediction = random.choice(y_dev)\n",
    "        if(prediction == label):\n",
    "            correct += 1\n",
    "        else:\n",
    "            incorrect += 1\n",
    "\n",
    "    error = incorrect / len(y_dev)\n",
    " \n",
    "    return error, correct, incorrect\n",
    "\n",
    "count_pos = Counter(y_dev_f)['pos'] \n",
    "count_neg = Counter(y_dev_f)['neg'] \n",
    "count_neu = Counter(y_dev_f)['neu']"
   ]
  },
  {
   "cell_type": "code",
   "execution_count": 115,
   "id": "b9623531",
   "metadata": {},
   "outputs": [
    {
     "name": "stdout",
     "output_type": "stream",
     "text": [
      "There are 7916 positive,  8095 negative, and 3895 neutral dev instances\n",
      "7297 correct predicitons,  12609 incorrect predictions\n",
      "The weighted random baseline's error is: 0.6334271074\n"
     ]
    }
   ],
   "source": [
    "error, correct, incorrect = weight_random(y_dev_f)\n",
    "print(\"There are\",count_pos,\"positive, \", count_neg,\"negative, and\",count_neu, \"neutral dev instances\")\n",
    "print(correct, \"correct predicitons, \",incorrect,\"incorrect predictions\" )\n",
    "print(\"The weighted random baseline's error is:\", round(error,10))"
   ]
  },
  {
   "cell_type": "code",
   "execution_count": 96,
   "id": "b0632db7",
   "metadata": {},
   "outputs": [
    {
     "name": "stdout",
     "output_type": "stream",
     "text": [
      "There are 7916 positive,  8095 negative, and 3895 neutral dev instances\n",
      "7201 correct predicitons,  12705 incorrect predictions\n",
      "The weighted random baseline's error is: 0.6382497739\n"
     ]
    }
   ],
   "source": [
    "error, correct, incorrect = weight_random(y_dev_g)\n",
    "print(\"There are\",count_pos,\"positive, \", count_neg,\"negative, and\",count_neu, \"neutral dev instances\")\n",
    "print(correct, \"correct predicitons, \",incorrect,\"incorrect predictions\" )\n",
    "print(\"The weighted random baseline's error is:\", round(error,10))"
   ]
  },
  {
   "cell_type": "code",
   "execution_count": 122,
   "id": "cc18dff8",
   "metadata": {},
   "outputs": [
    {
     "name": "stdout",
     "output_type": "stream",
     "text": [
      "There are 7916 positive,  8095 negative, and 3895 neutral dev instances\n",
      "7185 correct predicitons,  12721 incorrect predictions\n",
      "The weighted random baseline's error is: 0.6390535517\n"
     ]
    }
   ],
   "source": [
    "error, correct, incorrect = weight_random(y_dev_c)\n",
    "print(\"There are\",count_pos,\"positive, \", count_neg,\"negative, and\",count_neu, \"neutral dev instances\")\n",
    "print(correct, \"correct predicitons, \",incorrect,\"incorrect predictions\" )\n",
    "print(\"The weighted random baseline's error is:\", round(error,10))"
   ]
  },
  {
   "cell_type": "code",
   "execution_count": 27,
   "id": "7d1d6587",
   "metadata": {},
   "outputs": [],
   "source": [
    "from random import random\n",
    "# Determine class distirbutions\n",
    "prior_pos = Counter(y_dev_f)['pos'] / (Counter(y_dev_f)['pos'] + Counter(y_dev_f)['neg'] + Counter(y_dev_f)['neu'])\n",
    "prior_neg = Counter(y_dev_f)['neg'] / (Counter(y_dev_f)['pos'] + Counter(y_dev_f)['neg'] + Counter(y_dev_f)['neu'])\n",
    "prior_neu = Counter(y_dev_f)['neu'] / (Counter(y_dev_f)['pos'] + Counter(y_dev_f)['neg'] + Counter(y_dev_f)['neu'])\n",
    "\n",
    "def weight_random2(y_dev,prior_pos,prior_neg):\n",
    "    pos_boundary = prior_pos\n",
    "    neg_boundary = prior_pos + prior_neg\n",
    "    \n",
    "    error = 0    \n",
    "    correct = 0\n",
    "    incorrect = 0\n",
    "    for label in y_dev:\n",
    "        prediction = random()\n",
    "        if(prediction <= pos_boundary):\n",
    "            prediction = 'pos'  \n",
    "        elif(pos_boundary < prediction <= neg_boundary):\n",
    "            prediction = 'neg'\n",
    "        else:\n",
    "            prediction = 'neu'\n",
    "        if(prediction == label):\n",
    "            correct += 1\n",
    "        else:\n",
    "            incorrect += 1\n",
    "\n",
    "    error = incorrect / len(y_dev)\n",
    " \n",
    "    return error, correct, incorrect"
   ]
  },
  {
   "cell_type": "code",
   "execution_count": 123,
   "id": "05632985",
   "metadata": {},
   "outputs": [
    {
     "ename": "TypeError",
     "evalue": "'module' object is not callable",
     "output_type": "error",
     "traceback": [
      "\u001b[1;31m---------------------------------------------------------------------------\u001b[0m",
      "\u001b[1;31mTypeError\u001b[0m                                 Traceback (most recent call last)",
      "\u001b[1;32m<ipython-input-123-e0786ebc911a>\u001b[0m in \u001b[0;36m<module>\u001b[1;34m\u001b[0m\n\u001b[1;32m----> 1\u001b[1;33m \u001b[0merror\u001b[0m\u001b[1;33m,\u001b[0m \u001b[0mcorrect\u001b[0m\u001b[1;33m,\u001b[0m \u001b[0mincorrect\u001b[0m \u001b[1;33m=\u001b[0m \u001b[0mweight_random2\u001b[0m\u001b[1;33m(\u001b[0m\u001b[0my_dev_f\u001b[0m\u001b[1;33m,\u001b[0m \u001b[0mprior_pos\u001b[0m\u001b[1;33m,\u001b[0m \u001b[0mprior_neg\u001b[0m\u001b[1;33m)\u001b[0m\u001b[1;33m\u001b[0m\u001b[1;33m\u001b[0m\u001b[0m\n\u001b[0m\u001b[0;32m      2\u001b[0m \u001b[0mprint\u001b[0m\u001b[1;33m(\u001b[0m\u001b[1;34m\"There are\"\u001b[0m\u001b[1;33m,\u001b[0m\u001b[0mcount_pos\u001b[0m\u001b[1;33m,\u001b[0m\u001b[1;34m\"positive, \"\u001b[0m\u001b[1;33m,\u001b[0m \u001b[0mcount_neg\u001b[0m\u001b[1;33m,\u001b[0m\u001b[1;34m\"negative, and\"\u001b[0m\u001b[1;33m,\u001b[0m\u001b[0mcount_neu\u001b[0m\u001b[1;33m,\u001b[0m \u001b[1;34m\"neutral dev instances\"\u001b[0m\u001b[1;33m)\u001b[0m\u001b[1;33m\u001b[0m\u001b[1;33m\u001b[0m\u001b[0m\n\u001b[0;32m      3\u001b[0m \u001b[0mprint\u001b[0m\u001b[1;33m(\u001b[0m\u001b[0mcorrect\u001b[0m\u001b[1;33m,\u001b[0m \u001b[1;34m\"correct predicitons, \"\u001b[0m\u001b[1;33m,\u001b[0m\u001b[0mincorrect\u001b[0m\u001b[1;33m,\u001b[0m\u001b[1;34m\"incorrect predictions\"\u001b[0m \u001b[1;33m)\u001b[0m\u001b[1;33m\u001b[0m\u001b[1;33m\u001b[0m\u001b[0m\n\u001b[0;32m      4\u001b[0m \u001b[0mprint\u001b[0m\u001b[1;33m(\u001b[0m\u001b[1;34m\"The weighted random baseline's error is:\"\u001b[0m\u001b[1;33m,\u001b[0m \u001b[0mround\u001b[0m\u001b[1;33m(\u001b[0m\u001b[0merror\u001b[0m\u001b[1;33m,\u001b[0m\u001b[1;36m10\u001b[0m\u001b[1;33m)\u001b[0m\u001b[1;33m)\u001b[0m\u001b[1;33m\u001b[0m\u001b[1;33m\u001b[0m\u001b[0m\n",
      "\u001b[1;32m<ipython-input-27-821467356db0>\u001b[0m in \u001b[0;36mweight_random2\u001b[1;34m(y_dev, prior_pos, prior_neg)\u001b[0m\n\u001b[0;32m     17\u001b[0m     \u001b[0mincorrect\u001b[0m \u001b[1;33m=\u001b[0m \u001b[1;36m0\u001b[0m\u001b[1;33m\u001b[0m\u001b[1;33m\u001b[0m\u001b[0m\n\u001b[0;32m     18\u001b[0m     \u001b[1;32mfor\u001b[0m \u001b[0mlabel\u001b[0m \u001b[1;32min\u001b[0m \u001b[0my_dev\u001b[0m\u001b[1;33m:\u001b[0m\u001b[1;33m\u001b[0m\u001b[1;33m\u001b[0m\u001b[0m\n\u001b[1;32m---> 19\u001b[1;33m         \u001b[0mprediction\u001b[0m \u001b[1;33m=\u001b[0m \u001b[0mrandom\u001b[0m\u001b[1;33m(\u001b[0m\u001b[1;33m)\u001b[0m\u001b[1;33m\u001b[0m\u001b[1;33m\u001b[0m\u001b[0m\n\u001b[0m\u001b[0;32m     20\u001b[0m         \u001b[1;32mif\u001b[0m\u001b[1;33m(\u001b[0m\u001b[0mprediction\u001b[0m \u001b[1;33m<=\u001b[0m \u001b[0mpos_boundary\u001b[0m\u001b[1;33m)\u001b[0m\u001b[1;33m:\u001b[0m\u001b[1;33m\u001b[0m\u001b[1;33m\u001b[0m\u001b[0m\n\u001b[0;32m     21\u001b[0m             \u001b[0mprediction\u001b[0m \u001b[1;33m=\u001b[0m \u001b[1;34m'pos'\u001b[0m\u001b[1;33m\u001b[0m\u001b[1;33m\u001b[0m\u001b[0m\n",
      "\u001b[1;31mTypeError\u001b[0m: 'module' object is not callable"
     ]
    }
   ],
   "source": [
    "error, correct, incorrect = weight_random2(y_dev_f, prior_pos, prior_neg)\n",
    "print(\"There are\",count_pos,\"positive, \", count_neg,\"negative, and\",count_neu, \"neutral dev instances\")\n",
    "print(correct, \"correct predicitons, \",incorrect,\"incorrect predictions\" )\n",
    "print(\"The weighted random baseline's error is:\", round(error,10))"
   ]
  },
  {
   "cell_type": "code",
   "execution_count": 132,
   "id": "2452d149",
   "metadata": {},
   "outputs": [
    {
     "data": {
      "text/plain": [
       "0.36044408720988647"
      ]
     },
     "execution_count": 132,
     "metadata": {},
     "output_type": "execute_result"
    }
   ],
   "source": [
    "from sklearn.dummy import DummyClassifier\n",
    "dummy_clf = DummyClassifier(strategy=\"stratified\")\n",
    "dummy_clf.fit(X_dev_f, y_dev_f)\n",
    "dummy_clf.score(X_dev_f, y_dev_f)"
   ]
  },
  {
   "cell_type": "markdown",
   "id": "8ed46f5c",
   "metadata": {},
   "source": [
    "#### Observations\n",
    "Models performing better than baseline"
   ]
  },
  {
   "cell_type": "markdown",
   "id": "5266f484",
   "metadata": {},
   "source": [
    "# Training Phase 2\n",
    "Perform feature selection to increase performance"
   ]
  },
  {
   "cell_type": "markdown",
   "id": "4bb6743e",
   "metadata": {},
   "source": [
    "## Feature Selection\n",
    "Use composite of TFIDF and Count feature representations"
   ]
  },
  {
   "cell_type": "code",
   "execution_count": 177,
   "id": "ecea0589",
   "metadata": {},
   "outputs": [
    {
     "name": "stdout",
     "output_type": "stream",
     "text": [
      "  (0, 2317)\t0.4135918197208131\n",
      "  (0, 2497)\t0.7910294373931178\n",
      "  (0, 3396)\t0.4507928968357355\n",
      "  (1, 573)\t0.5239405639724402\n",
      "  (1, 1850)\t0.2689391233917331\n",
      "  (1, 2690)\t0.5679685442982928\n",
      "  (1, 3827)\t0.39348577488961367\n",
      "  (1, 4644)\t0.4192120119709425\n",
      "  (2, 536)\t0.44192832578442043\n",
      "  (2, 1391)\t0.5013098541806313\n",
      "  (2, 2218)\t0.3209783438156829\n",
      "  (2, 2405)\t0.4897198689787062\n",
      "  (2, 2837)\t0.2757628355961508\n",
      "  (2, 3072)\t0.3667287774412633\n",
      "  (3, 833)\t0.5306751425467238\n",
      "  (3, 904)\t0.3428925759816854\n",
      "  (3, 1323)\t0.5729959638886798\n",
      "  (3, 1588)\t0.5220001913667669\n",
      "  (4, 877)\t0.568230353269611\n",
      "  (4, 878)\t0.40392423016268403\n",
      "  (4, 1127)\t0.351971251971452\n",
      "  (4, 1146)\t0.41423442383134845\n",
      "  (4, 1826)\t0.3677221900003061\n",
      "  (4, 3829)\t0.28855840447076625\n",
      "  (5, 587)\t0.3773076245271097\n",
      "  :\t:\n",
      "  (159249, 6250)\t1.0\n",
      "  (159249, 7059)\t1.0\n",
      "  (159249, 8651)\t1.0\n",
      "  (159250, 5190)\t2.0\n",
      "  (159250, 5383)\t1.0\n",
      "  (159250, 5395)\t1.0\n",
      "  (159250, 5999)\t1.0\n",
      "  (159250, 6015)\t1.0\n",
      "  (159250, 6267)\t1.0\n",
      "  (159250, 6829)\t1.0\n",
      "  (159250, 7665)\t1.0\n",
      "  (159250, 7678)\t1.0\n",
      "  (159250, 7825)\t1.0\n",
      "  (159250, 7941)\t1.0\n",
      "  (159250, 9532)\t1.0\n",
      "  (159251, 7059)\t1.0\n",
      "  (159251, 9503)\t1.0\n",
      "  (159252, 5624)\t1.0\n",
      "  (159252, 5767)\t1.0\n",
      "  (159252, 7332)\t1.0\n",
      "  (159252, 7395)\t1.0\n",
      "  (159252, 7680)\t1.0\n",
      "  (159252, 8408)\t1.0\n",
      "  (159252, 8683)\t1.0\n",
      "  (159252, 8830)\t1.0\n",
      "  (0, 2317)\t0.4135918197208131\n",
      "  (0, 2497)\t0.7910294373931178\n",
      "  (0, 3396)\t0.4507928968357355\n",
      "  (0, 7317)\t1.0\n",
      "  (0, 7497)\t1.0\n",
      "  (0, 8396)\t1.0\n",
      "  (1, 573)\t0.5239405639724402\n",
      "  (1, 1850)\t0.2689391233917331\n",
      "  (1, 2690)\t0.5679685442982928\n",
      "  (1, 3827)\t0.39348577488961367\n",
      "  (1, 4644)\t0.4192120119709425\n",
      "  (1, 5573)\t1.0\n",
      "  (1, 6850)\t1.0\n",
      "  (1, 7690)\t1.0\n",
      "  (1, 8827)\t1.0\n",
      "  (1, 9644)\t1.0\n",
      "  (2, 536)\t0.44192832578442043\n",
      "  (2, 1391)\t0.5013098541806313\n",
      "  (2, 2218)\t0.3209783438156829\n",
      "  (2, 2405)\t0.4897198689787062\n",
      "  (2, 2837)\t0.2757628355961508\n",
      "  (2, 3072)\t0.3667287774412633\n",
      "  (2, 5536)\t1.0\n",
      "  (2, 6391)\t1.0\n",
      "  (2, 7218)\t1.0\n",
      "  :\t:\n",
      "  (159250, 7665)\t1.0\n",
      "  (159250, 7678)\t1.0\n",
      "  (159250, 7825)\t1.0\n",
      "  (159250, 7941)\t1.0\n",
      "  (159250, 9532)\t1.0\n",
      "  (159251, 2059)\t0.48957806658959113\n",
      "  (159251, 4503)\t0.8719594696511977\n",
      "  (159251, 7059)\t1.0\n",
      "  (159251, 9503)\t1.0\n",
      "  (159252, 624)\t0.3868243767173614\n",
      "  (159252, 767)\t0.42511909107794427\n",
      "  (159252, 2332)\t0.3007436051521156\n",
      "  (159252, 2395)\t0.3309990750820955\n",
      "  (159252, 2680)\t0.316859941800781\n",
      "  (159252, 3408)\t0.4015393415413584\n",
      "  (159252, 3683)\t0.34769557174569093\n",
      "  (159252, 3830)\t0.2951394248455607\n",
      "  (159252, 5624)\t1.0\n",
      "  (159252, 5767)\t1.0\n",
      "  (159252, 7332)\t1.0\n",
      "  (159252, 7395)\t1.0\n",
      "  (159252, 7680)\t1.0\n",
      "  (159252, 8408)\t1.0\n",
      "  (159252, 8683)\t1.0\n",
      "  (159252, 8830)\t1.0\n"
     ]
    }
   ],
   "source": [
    "# print(X_train_f.shape)\n",
    "# print(X_train_c[0])\n",
    "X_train_fc = hstack((X_train_f, X_train_c))\n",
    "print(X_train_fc)\n",
    "X_train_fc = csr_matrix(X_train_fc)\n",
    "print(X_train_fc)\n"
   ]
  },
  {
   "cell_type": "code",
   "execution_count": 209,
   "id": "cc7447f2",
   "metadata": {},
   "outputs": [
    {
     "name": "stderr",
     "output_type": "stream",
     "text": [
      "C:\\Users\\dcole\\anaconda3\\lib\\site-packages\\sklearn\\linear_model\\_logistic.py:763: ConvergenceWarning: lbfgs failed to converge (status=1):\n",
      "STOP: TOTAL NO. of ITERATIONS REACHED LIMIT.\n",
      "\n",
      "Increase the number of iterations (max_iter) or scale the data as shown in:\n",
      "    https://scikit-learn.org/stable/modules/preprocessing.html\n",
      "Please also refer to the documentation for alternative solver options:\n",
      "    https://scikit-learn.org/stable/modules/linear_model.html#logistic-regression\n",
      "  n_iter_i = _check_optimize_result(\n"
     ]
    }
   ],
   "source": [
    "lr_fc = LogisticRegression(multi_class = 'multinomial').fit(X_train_fc, y_train_f)"
   ]
  },
  {
   "cell_type": "code",
   "execution_count": 192,
   "id": "5e6e7108",
   "metadata": {},
   "outputs": [],
   "source": [
    "mnb_fc = MultinomialNB().fit(X_train_fc,y_train_f)"
   ]
  },
  {
   "cell_type": "code",
   "execution_count": 180,
   "id": "e349e350",
   "metadata": {},
   "outputs": [],
   "source": [
    "X_dev_fc = hstack((X_dev_f, X_dev_c))\n",
    "X_dev_fc = csr_matrix(X_dev_fc)"
   ]
  },
  {
   "cell_type": "code",
   "execution_count": 210,
   "id": "d1d2dfd3",
   "metadata": {},
   "outputs": [],
   "source": [
    "lr_fc_pred = lr_fc.predict(X_dev_fc)\n",
    "mnb_fc_pred = mnb_fc.predict(X_dev_fc)"
   ]
  },
  {
   "cell_type": "code",
   "execution_count": 214,
   "id": "d1c8af56",
   "metadata": {},
   "outputs": [
    {
     "name": "stdout",
     "output_type": "stream",
     "text": [
      "0.7394755350145684\n",
      "              precision    recall  f1-score   support\n",
      "\n",
      "         neg       0.73      0.72      0.73      8095\n",
      "         neu       0.82      0.86      0.84      3895\n",
      "         pos       0.70      0.70      0.70      7916\n",
      "\n",
      "    accuracy                           0.74     19906\n",
      "   macro avg       0.75      0.76      0.76     19906\n",
      "weighted avg       0.74      0.74      0.74     19906\n",
      "\n",
      "[[5825  287 1983]\n",
      " [ 206 3336  353]\n",
      " [1903  454 5559]]\n",
      "None\n"
     ]
    },
    {
     "data": {
      "image/png": "[encoded data removed]",
      "text/plain": [
       "<Figure size 432x288 with 2 Axes>"
      ]
     },
     "metadata": {
      "needs_background": "light"
     },
     "output_type": "display_data"
    }
   ],
   "source": [
    "print(lr_fc.score(X_dev_fc, y_dev_f))\n",
    "print(classification_report(y_dev_c, lr_fc_pred))\n",
    "print(confusionMatrix(y_dev_c, lr_fc_pred, \"LR FC Confusion Matrix\"))"
   ]
  },
  {
   "cell_type": "code",
   "execution_count": 196,
   "id": "40ef8171",
   "metadata": {},
   "outputs": [
    {
     "name": "stdout",
     "output_type": "stream",
     "text": [
      "              precision    recall  f1-score   support\n",
      "\n",
      "         neg       0.72      0.72      0.72      8095\n",
      "         neu       0.81      0.83      0.82      3895\n",
      "         pos       0.70      0.69      0.69      7916\n",
      "\n",
      "    accuracy                           0.73     19906\n",
      "   macro avg       0.74      0.75      0.75     19906\n",
      "weighted avg       0.73      0.73      0.73     19906\n",
      "\n",
      "[[5855  305 1935]\n",
      " [ 261 3245  389]\n",
      " [2033  432 5451]]\n",
      "None\n"
     ]
    },
    {
     "data": {
      "image/png": "[encoded data removed]",
      "text/plain": [
       "<Figure size 432x288 with 2 Axes>"
      ]
     },
     "metadata": {
      "needs_background": "light"
     },
     "output_type": "display_data"
    }
   ],
   "source": [
    "print(classification_report(y_dev_c, mnb_fc_pred))\n",
    "print(confusionMatrix(y_dev_c, mnb_fc_pred, \"MNB FC Confusion Matrix\"))"
   ]
  },
  {
   "cell_type": "markdown",
   "id": "5395f1d4",
   "metadata": {},
   "source": [
    "## Selecting Best Model"
   ]
  },
  {
   "cell_type": "markdown",
   "id": "a89db383",
   "metadata": {},
   "source": [
    "The analysis of the dev dataset suggested that the Multi-Layer Perceptron was the most suitable model for this classification task, hence we select this model the train with the training dataset.\n",
    "Feature selection best option was ..."
   ]
  },
  {
   "cell_type": "markdown",
   "id": "6b8a89ab",
   "metadata": {},
   "source": [
    "## Tuning Selected Model\n",
    "Optimise parameters for best performance,\n",
    "Optimise features for best performance"
   ]
  },
  {
   "cell_type": "markdown",
   "id": "7ca736c6",
   "metadata": {},
   "source": [
    "# TESTING PHASE "
   ]
  },
  {
   "cell_type": "markdown",
   "id": "fd812024",
   "metadata": {},
   "source": [
    "## Read Test Data"
   ]
  },
  {
   "cell_type": "code",
   "execution_count": null,
   "id": "da6c23c7",
   "metadata": {},
   "outputs": [],
   "source": []
  },
  {
   "cell_type": "markdown",
   "id": "58493c35",
   "metadata": {},
   "source": [
    "## Process Test Input\n",
    "Prepare the features which performed the best during dev evaluation "
   ]
  },
  {
   "cell_type": "code",
   "execution_count": null,
   "id": "3315b70e",
   "metadata": {},
   "outputs": [],
   "source": []
  },
  {
   "cell_type": "markdown",
   "id": "bf9ad52d",
   "metadata": {},
   "source": [
    "## Test Model\n",
    "Test selected model against the test instances"
   ]
  },
  {
   "cell_type": "code",
   "execution_count": null,
   "id": "f429141b",
   "metadata": {},
   "outputs": [],
   "source": [
    "# MODELS - TEST"
   ]
  }
 ],
 "metadata": {
  "kernelspec": {
   "display_name": "Python 3",
   "language": "python",
   "name": "python3"
  },
  "language_info": {
   "codemirror_mode": {
    "name": "ipython",
    "version": 3
   },
   "file_extension": ".py",
   "mimetype": "text/x-python",
   "name": "python",
   "nbconvert_exporter": "python",
   "pygments_lexer": "ipython3",
   "version": "3.8.8"
  }
 },
 "nbformat": 4,
 "nbformat_minor": 5
}
