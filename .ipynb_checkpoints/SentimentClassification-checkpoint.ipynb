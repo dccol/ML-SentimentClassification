{
 "cells": [
  {
   "cell_type": "markdown",
   "id": "eb63fb78",
   "metadata": {},
   "source": [
    "# Machine Leanring Assignment 3: Tweet Sentiment Classifcation"
   ]
  },
  {
   "cell_type": "code",
   "execution_count": 44,
   "id": "fb084b2e",
   "metadata": {},
   "outputs": [],
   "source": [
    "# Imports\n",
    "import pandas as pd\n",
    "import numpy as np\n",
    "import ast\n",
    "from scipy.sparse import csr_matrix\n",
    "from sklearn.feature_extraction.text import TfidfVectorizer\n",
    "from sklearn.feature_extraction import DictVectorizer\n",
    "\n",
    "from sklearn.linear_model import LogisticRegression\n",
    "from sklearn.naive_bayes import MultinomialNB\n",
    "from sklearn.neural_network import MLPClassifier"
   ]
  },
  {
   "cell_type": "markdown",
   "id": "60c878f3",
   "metadata": {},
   "source": [
    "## Read Data"
   ]
  },
  {
   "cell_type": "code",
   "execution_count": 53,
   "id": "66c25287",
   "metadata": {},
   "outputs": [],
   "source": [
    "def convertToDictionary(data):\n",
    "    i = 0\n",
    "    for tweet in data[\"tweet\"]:\n",
    "        tweet_list = ast.literal_eval(tweet)\n",
    "        tweet_kv = [(str(tup[0]), tup[1]) for tup in tweet_list]\n",
    "        tweet_dict = dict(tweet_kv)\n",
    "        data.at[i, \"tweet\"] = tweet_dict\n",
    "        i += 1\n",
    "        \n",
    "    return data\n",
    "\n",
    "def convertToList(data):\n",
    "    i = 0\n",
    "    for tweet in data[\"tweet\"]:\n",
    "        tweet_list = ast.literal_eval(tweet)\n",
    "        data.at[i, \"tweet\"] = tweet_list\n",
    "        i += 1\n",
    "        \n",
    "    return data"
   ]
  },
  {
   "cell_type": "code",
   "execution_count": 55,
   "id": "70cc44fe",
   "metadata": {},
   "outputs": [],
   "source": [
    "# LOAD DEV DATA\n",
    "\n",
    "# 1. TFIDF\n",
    "f_data = pd.read_csv(\"data/data/dev_tfidf.csv\")\n",
    "\n",
    "# Convert each tweet into a dictionary for processing\n",
    "f_data = convertToDictionary(f_data)\n",
    "\n",
    "# 2. GloVe\n",
    "g_data = pd.read_csv(\"data/data/dev_glove.csv\")\n",
    "g_data = convertToList(g_data)\n",
    "\n",
    "# 3. Count\n",
    "c_data = pd.read_csv(\"data/data/dev_count.csv\")\n",
    "c_data = convertToDictionary(c_data)"
   ]
  },
  {
   "cell_type": "markdown",
   "id": "5390a106",
   "metadata": {},
   "source": [
    "## Process Input"
   ]
  },
  {
   "cell_type": "code",
   "execution_count": 71,
   "id": "6be2c644",
   "metadata": {},
   "outputs": [],
   "source": [
    "# Process Data\n",
    "v = DictVectorizer()\n",
    "\n",
    "X_dev_f = v.fit_transform(f_data[\"tweet\"])\n",
    "y_dev_f = f_data[\"sentiment\"]\n",
    "\n",
    "X_dev_g = g_data[\"tweet\"].to_list()\n",
    "y_dev_g = g_data[\"sentiment\"]\n",
    "\n",
    "X_dev_c = v.fit_transform(c_data[\"tweet\"])\n",
    "y_dev_c = c_data[\"sentiment\"]"
   ]
  },
  {
   "cell_type": "markdown",
   "id": "c9ff64f1",
   "metadata": {},
   "source": [
    "## Train Models - DEV dataset"
   ]
  },
  {
   "cell_type": "code",
   "execution_count": 31,
   "id": "5f2d55a4",
   "metadata": {},
   "outputs": [
    {
     "name": "stderr",
     "output_type": "stream",
     "text": [
      "C:\\Users\\dcole\\anaconda3\\lib\\site-packages\\sklearn\\linear_model\\_logistic.py:763: ConvergenceWarning: lbfgs failed to converge (status=1):\n",
      "STOP: TOTAL NO. of ITERATIONS REACHED LIMIT.\n",
      "\n",
      "Increase the number of iterations (max_iter) or scale the data as shown in:\n",
      "    https://scikit-learn.org/stable/modules/preprocessing.html\n",
      "Please also refer to the documentation for alternative solver options:\n",
      "    https://scikit-learn.org/stable/modules/linear_model.html#logistic-regression\n",
      "  n_iter_i = _check_optimize_result(\n",
      "C:\\Users\\dcole\\anaconda3\\lib\\site-packages\\sklearn\\neural_network\\_multilayer_perceptron.py:614: ConvergenceWarning: Stochastic Optimizer: Maximum iterations (200) reached and the optimization hasn't converged yet.\n",
      "  warnings.warn(\n",
      "C:\\Users\\dcole\\anaconda3\\lib\\site-packages\\sklearn\\linear_model\\_logistic.py:763: ConvergenceWarning: lbfgs failed to converge (status=1):\n",
      "STOP: TOTAL NO. of ITERATIONS REACHED LIMIT.\n",
      "\n",
      "Increase the number of iterations (max_iter) or scale the data as shown in:\n",
      "    https://scikit-learn.org/stable/modules/preprocessing.html\n",
      "Please also refer to the documentation for alternative solver options:\n",
      "    https://scikit-learn.org/stable/modules/linear_model.html#logistic-regression\n",
      "  n_iter_i = _check_optimize_result(\n",
      "C:\\Users\\dcole\\anaconda3\\lib\\site-packages\\sklearn\\neural_network\\_multilayer_perceptron.py:614: ConvergenceWarning: Stochastic Optimizer: Maximum iterations (200) reached and the optimization hasn't converged yet.\n",
      "  warnings.warn(\n"
     ]
    },
    {
     "data": {
      "text/plain": [
       "array(['neg', 'neg', 'pos', ..., 'neu', 'neu', 'neg'], dtype='<U3')"
      ]
     },
     "execution_count": 31,
     "metadata": {},
     "output_type": "execute_result"
    }
   ],
   "source": [
    "# MODELS - DEV\n",
    "\n",
    "# tfidf\n",
    "lr_dev_f = LogisticRegression().fit(X_dev_f, y_dev_f)\n",
    "lr_dev_f.predict(X_dev_f)\n",
    "\n",
    "mnb_dev_f = MultinomialNB().fit(X_dev_f,y_dev_f)\n",
    "mnb_dev_f.predict(X_dev_f)\n",
    "\n",
    "mlp_dev_f = MLPClassifier(alpha=1e-5,\n",
    "                     hidden_layer_sizes=(15,), random_state=1)\n",
    "\n",
    "mlp_dev_f.fit(X_dev_f, y_dev_f)\n",
    "mlp_dev_f.predict(X_dev_f)"
   ]
  },
  {
   "cell_type": "code",
   "execution_count": 68,
   "id": "6764835b",
   "metadata": {},
   "outputs": [
    {
     "name": "stderr",
     "output_type": "stream",
     "text": [
      "C:\\Users\\dcole\\anaconda3\\lib\\site-packages\\sklearn\\linear_model\\_logistic.py:763: ConvergenceWarning: lbfgs failed to converge (status=1):\n",
      "STOP: TOTAL NO. of ITERATIONS REACHED LIMIT.\n",
      "\n",
      "Increase the number of iterations (max_iter) or scale the data as shown in:\n",
      "    https://scikit-learn.org/stable/modules/preprocessing.html\n",
      "Please also refer to the documentation for alternative solver options:\n",
      "    https://scikit-learn.org/stable/modules/linear_model.html#logistic-regression\n",
      "  n_iter_i = _check_optimize_result(\n",
      "C:\\Users\\dcole\\anaconda3\\lib\\site-packages\\sklearn\\neural_network\\_multilayer_perceptron.py:614: ConvergenceWarning: Stochastic Optimizer: Maximum iterations (200) reached and the optimization hasn't converged yet.\n",
      "  warnings.warn(\n"
     ]
    },
    {
     "data": {
      "text/plain": [
       "array(['neg', 'pos', 'pos', ..., 'neu', 'neg', 'neg'], dtype='<U3')"
      ]
     },
     "execution_count": 68,
     "metadata": {},
     "output_type": "execute_result"
    }
   ],
   "source": [
    "# glove\n",
    "lr_dev_g = LogisticRegression().fit(X_dev_g, y_dev_g)\n",
    "lr_dev_g.predict(X_dev_g)\n",
    "\n",
    "# Don't use Naive Baynes due to conditional indepednence assumption.\n",
    "# These features are inherently related as all 100 represent the same word\n",
    "# mnb_dev_g = MultinomialNB().fit(X_dev_g,y_dev_g)\n",
    "# mnb_dev_g.predict(X_dev_g)\n",
    "\n",
    "mlp_dev_g = MLPClassifier(alpha=1e-5,\n",
    "                     hidden_layer_sizes=(50,), random_state=1)\n",
    "\n",
    "mlp_dev_g.fit(X_dev_g, y_dev_g)\n",
    "mlp_dev_g.predict(X_dev_g)"
   ]
  },
  {
   "cell_type": "code",
   "execution_count": null,
   "id": "3e2a1e6b",
   "metadata": {},
   "outputs": [],
   "source": [
    "# count\n",
    "lr_dev_c = LogisticRegression().fit(X_dev_c, y_dev_c)\n",
    "lr_dev_c.predict(X_dev_c)\n",
    "\n",
    "mnb_dev_c = MultinomialNB().fit(X_dev_c,y_dev_c)\n",
    "mnb_dev_c.predict(X_dev_c)\n",
    "\n",
    "mlp_dev_c = MLPClassifier(alpha=1e-5,\n",
    "                     hidden_layer_sizes=(15,), random_state=1)\n",
    "\n",
    "mlp_dev_c.fit(X_dev_c, y_dev_c)\n",
    "mlp_dev_c.predict(X_dev_c)"
   ]
  },
  {
   "cell_type": "markdown",
   "id": "40ed841e",
   "metadata": {},
   "source": [
    "## Evaluation - DEV dataset"
   ]
  },
  {
   "cell_type": "code",
   "execution_count": 70,
   "id": "3c7c8508",
   "metadata": {},
   "outputs": [
    {
     "name": "stdout",
     "output_type": "stream",
     "text": [
      "Tfidf\n",
      "Logistic Regression Accuracy:\t0.8106601024816639\n",
      "Naive Bayes Accuracy:\t0.7852908670752536\n",
      "Multi-Layer Perceptron:\t0.990304430824877\n",
      "GloVe\n",
      "Logistic Regression Accuracy:\t0.6833618004621722\n",
      "Multi-Layer Perceptron:\t0.7670551592484678\n",
      "Count\n",
      "Logistic Regression Accuracy:\t0.8384406711544258\n",
      "Naive Bayes Accuracy:\t0.7846880337586657\n",
      "Multi-Layer Perceptron:\t0.9948256806992867\n"
     ]
    }
   ],
   "source": [
    "print(\"Tfidf\")\n",
    "print(\"Logistic Regression Accuracy:\\t\" + str(lr_dev_f.score(X_dev_f, y_dev_f)))\n",
    "print(\"Naive Bayes Accuracy:\\t\" + str(mnb_dev_f.score(X_dev_f, y_dev_f)))\n",
    "print(\"Multi-Layer Perceptron:\\t\" + str(mlp_dev_f.score(X_dev_f, y_dev_f)))\n",
    "\n",
    "print(\"GloVe\")\n",
    "print(\"Logistic Regression Accuracy:\\t\" + str(lr_dev_g.score(X_dev_g, y_dev_g)))\n",
    "# print(\"Naive Bayes Accuracy:\\t\" + str(mnb_dev_g.score(X_dev_g, y_dev_g)))\n",
    "print(\"Multi-Layer Perceptron:\\t\" + str(mlp_dev_g.score(X_dev_g, y_dev_g)))\n",
    "\n",
    "print(\"Count\")\n",
    "print(\"Logistic Regression Accuracy:\\t\" + str(lr_dev_c.score(X_dev_c, y_dev_c)))\n",
    "print(\"Naive Bayes Accuracy:\\t\" + str(mnb_dev_c.score(X_dev_c, y_dev_c)))\n",
    "print(\"Multi-Layer Perceptron:\\t\" + str(mlp_dev_c.score(X_dev_c, y_dev_c)))"
   ]
  },
  {
   "cell_type": "markdown",
   "id": "3d170f08",
   "metadata": {},
   "source": [
    "#### Observations:\n",
    "1. Mutli-Layer Perceptron performing the best\n",
    "2. GloVe embeddings not performing well on current models"
   ]
  },
  {
   "cell_type": "code",
   "execution_count": 14,
   "id": "c45184c4",
   "metadata": {},
   "outputs": [],
   "source": [
    "# MODELS - TRAIN"
   ]
  },
  {
   "cell_type": "code",
   "execution_count": null,
   "id": "50958c3b",
   "metadata": {},
   "outputs": [],
   "source": [
    "# MODELS - TEST"
   ]
  }
 ],
 "metadata": {
  "kernelspec": {
   "display_name": "Python 3",
   "language": "python",
   "name": "python3"
  },
  "language_info": {
   "codemirror_mode": {
    "name": "ipython",
    "version": 3
   },
   "file_extension": ".py",
   "mimetype": "text/x-python",
   "name": "python",
   "nbconvert_exporter": "python",
   "pygments_lexer": "ipython3",
   "version": "3.8.8"
  }
 },
 "nbformat": 4,
 "nbformat_minor": 5
}
